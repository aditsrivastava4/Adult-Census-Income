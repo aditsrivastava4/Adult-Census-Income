{
 "cells": [
  {
   "cell_type": "code",
   "execution_count": 2,
   "metadata": {},
   "outputs": [],
   "source": [
    "import warnings\n",
    "warnings.filterwarnings('ignore')\n",
    "import pandas as pd\n",
    "import numpy as np\n",
    "from time import time\n",
    "from sklearn import metrics\n",
    "from sklearn.svm import SVC\n",
    "from sklearn.naive_bayes import GaussianNB\n",
    "from sklearn.tree import DecisionTreeClassifier\n",
    "from sklearn.neighbors import KNeighborsClassifier\n",
    "from sklearn.model_selection import train_test_split"
   ]
  },
  {
   "cell_type": "code",
   "execution_count": 3,
   "metadata": {},
   "outputs": [
    {
     "name": "stdout",
     "output_type": "stream",
     "text": [
      "   age workclass  fnlwgt     education  education.num marital.status  \\\n",
      "0   90         ?   77053       HS-grad              9        Widowed   \n",
      "1   82   Private  132870       HS-grad              9        Widowed   \n",
      "2   66         ?  186061  Some-college             10        Widowed   \n",
      "3   54   Private  140359       7th-8th              4       Divorced   \n",
      "4   41   Private  264663  Some-college             10      Separated   \n",
      "\n",
      "          occupation   relationship   race     sex  capital.gain  \\\n",
      "0                  ?  Not-in-family  White  Female             0   \n",
      "1    Exec-managerial  Not-in-family  White  Female             0   \n",
      "2                  ?      Unmarried  Black  Female             0   \n",
      "3  Machine-op-inspct      Unmarried  White  Female             0   \n",
      "4     Prof-specialty      Own-child  White  Female             0   \n",
      "\n",
      "   capital.loss  hours.per.week native.country income  \n",
      "0          4356              40  United-States  <=50K  \n",
      "1          4356              18  United-States  <=50K  \n",
      "2          4356              40  United-States  <=50K  \n",
      "3          3900              40  United-States  <=50K  \n",
      "4          3900              40  United-States  <=50K  \n"
     ]
    }
   ],
   "source": [
    "df = pd.read_csv('adult.csv')\n",
    "print(df.head(5))"
   ]
  },
  {
   "cell_type": "code",
   "execution_count": 3,
   "metadata": {},
   "outputs": [],
   "source": [
    "def labels(y):\n",
    "    label = []\n",
    "    for i in y:\n",
    "        if i=='<=50K':\n",
    "            label.append([0])\n",
    "        else:\n",
    "            label.append([1])\n",
    "    return label\n",
    "\n",
    "def convert(data):\n",
    "    data = convertSex(data)\n",
    "    return data\n",
    "\n",
    "def convertSex(data):\n",
    "    for i in range (len(data)):\n",
    "        if data[i][4]=='Female':\n",
    "            data[i][4] = 0\n",
    "        else:\n",
    "            data[i][4] = 1\n",
    "    return data\n",
    "\n",
    "def metric(y,pred):\n",
    "    avg = 'weighted'\n",
    "    print('Precision score = ',metrics.precision_score(y, pred, average=avg))\n",
    "    print('Recall score = ',metrics.recall_score(y, pred, average=avg))\n",
    "    print('f1-score = ',metrics.f1_score(y, pred, average=avg))"
   ]
  },
  {
   "cell_type": "code",
   "execution_count": 4,
   "metadata": {},
   "outputs": [
    {
     "data": {
      "text/plain": [
       "Index(['age', 'workclass', 'fnlwgt', 'education', 'education.num',\n",
       "       'marital.status', 'occupation', 'relationship', 'race', 'sex',\n",
       "       'capital.gain', 'capital.loss', 'hours.per.week', 'native.country',\n",
       "       'income'],\n",
       "      dtype='object')"
      ]
     },
     "execution_count": 4,
     "metadata": {},
     "output_type": "execute_result"
    }
   ],
   "source": [
    "df.columns"
   ]
  },
  {
   "cell_type": "code",
   "execution_count": 5,
   "metadata": {},
   "outputs": [
    {
     "name": "stdout",
     "output_type": "stream",
     "text": [
      "32561\n",
      "32561\n"
     ]
    }
   ],
   "source": [
    "x = df[['age','fnlwgt','education.num','hours.per.week','sex','capital.loss']].values\n",
    "x = convert(x)\n",
    "\n",
    "y = np.array(labels(df[['income']].values))\n",
    "print(len(x))\n",
    "print(len(y))"
   ]
  },
  {
   "cell_type": "markdown",
   "metadata": {},
   "source": [
    "## Train Test Split"
   ]
  },
  {
   "cell_type": "code",
   "execution_count": 6,
   "metadata": {},
   "outputs": [
    {
     "name": "stdout",
     "output_type": "stream",
     "text": [
      "26048\n",
      "6513\n"
     ]
    }
   ],
   "source": [
    "x_train,x_test,y_train,y_test = train_test_split(x,y,test_size=0.2,random_state=42)\n",
    "print(len(x_train))\n",
    "print(len(x_test))"
   ]
  },
  {
   "cell_type": "markdown",
   "metadata": {},
   "source": [
    "# DecisionTreeClassifier"
   ]
  },
  {
   "cell_type": "code",
   "execution_count": 7,
   "metadata": {},
   "outputs": [
    {
     "name": "stdout",
     "output_type": "stream",
     "text": [
      "DecisionTreeClassifier(class_weight=None, criterion='entropy', max_depth=None,\n",
      "            max_features=None, max_leaf_nodes=None,\n",
      "            min_impurity_decrease=0.0, min_impurity_split=None,\n",
      "            min_samples_leaf=1, min_samples_split=2,\n",
      "            min_weight_fraction_leaf=0.0, presort=False, random_state=None,\n",
      "            splitter='best')\n",
      "Train Time DTC =  0.2297382354736328\n",
      "[0 0 0 ... 1 0 0]\n",
      "Accuracy =  0.7540304007369876\n",
      "Precision score =  0.7562560016407932\n",
      "Recall score =  0.7540304007369876\n",
      "f1-score =  0.7551138602518745\n",
      "Time DTC =  0.2502021789550781\n"
     ]
    }
   ],
   "source": [
    "t = time()\n",
    "clf = DecisionTreeClassifier(criterion='entropy')\n",
    "print(clf)\n",
    "clf.fit(x_train,y_train)\n",
    "print('Train Time DTC = ',(time()-t))\n",
    "pre = clf.predict(x_test)\n",
    "print(pre)\n",
    "print('Accuracy = ',clf.score(x_test,y_test))\n",
    "\n",
    "metric(y_test,pre)\n",
    "print('Time DTC = ',(time()-t))"
   ]
  },
  {
   "cell_type": "markdown",
   "metadata": {},
   "source": [
    "# SVC"
   ]
  },
  {
   "cell_type": "code",
   "execution_count": 8,
   "metadata": {},
   "outputs": [],
   "source": [
    "def svm_svc(kernel,c=1.0):\n",
    "    for i in kernel:\n",
    "        print('Kernel = ',i)\n",
    "        t = time()\n",
    "        clf = SVC(kernel=i,C=c)\n",
    "        print(clf)\n",
    "        clf.fit(x_train,y_train.ravel())\n",
    "        print('Train Time SVC = ',(time()-t))\n",
    "        pre = clf.predict(x_test)\n",
    "        print(pre)\n",
    "        print('Accuracy = ',clf.score(x_test,y_test))\n",
    "\n",
    "        metric(y_test,pre)\n",
    "        print('Time SVC = ',(time()-t),'\\n\\n')"
   ]
  },
  {
   "cell_type": "code",
   "execution_count": null,
   "metadata": {},
   "outputs": [
    {
     "name": "stdout",
     "output_type": "stream",
     "text": [
      "Kernel =  linear\n",
      "SVC(C=0.1, cache_size=200, class_weight=None, coef0=0.0,\n",
      "  decision_function_shape='ovr', degree=3, gamma='auto', kernel='linear',\n",
      "  max_iter=-1, probability=False, random_state=None, shrinking=True,\n",
      "  tol=0.001, verbose=False)\n"
     ]
    }
   ],
   "source": [
    "kernel = ['linear','rbf','sigmoid','precomputed','poly']\n",
    "svm_svc(kernel,c=0.1)"
   ]
  },
  {
   "cell_type": "code",
   "execution_count": null,
   "metadata": {},
   "outputs": [],
   "source": []
  }
 ],
 "metadata": {
  "kernelspec": {
   "display_name": "Python 3",
   "language": "python",
   "name": "python3"
  },
  "language_info": {
   "codemirror_mode": {
    "name": "ipython",
    "version": 3
   },
   "file_extension": ".py",
   "mimetype": "text/x-python",
   "name": "python",
   "nbconvert_exporter": "python",
   "pygments_lexer": "ipython3",
   "version": "3.6.3"
  }
 },
 "nbformat": 4,
 "nbformat_minor": 2
}
